{
 "cells": [
  {
   "cell_type": "markdown",
   "metadata": {},
   "source": [
    "# Lab 2: Introduction to Python and Jupyter Notebooks, Part II\n",
    "\n",
    "In this lab session we will continue our introduction to Python/NumPy/Matplotlib. We will see how to perform some basic operation on vectors, matrices, and a special type of matrix, the *image*. \n",
    "\n",
    "As usual, before we start, we need to import the needed libraries and set some useful plotting parameters. We can do this by running the code cell below."
   ]
  },
  {
   "cell_type": "code",
   "execution_count": 14,
   "metadata": {},
   "outputs": [],
   "source": [
    "from __future__ import print_function # to avoid issues between Python 2 and 3 printing\n",
    "import math\n",
    "\n",
    "import numpy as np\n",
    "from scipy import stats\n",
    "from skimage import data, io, color, transform, exposure\n",
    "import matplotlib.pyplot as plt\n",
    "\n",
    "# show matplotlib figures inline\n",
    "%matplotlib inline"
   ]
  },
  {
   "cell_type": "code",
   "execution_count": 2,
   "metadata": {},
   "outputs": [],
   "source": [
    "# By default we set figures to be 6\"x4\" on a 110 dots per inch (DPI) screen \n",
    "# (adjust DPI if you have a high res screen!)\n",
    "plt.rc('figure', figsize=(6, 4), dpi=110)\n",
    "plt.rc('font', size=10)"
   ]
  },
  {
   "cell_type": "markdown",
   "metadata": {},
   "source": [
    "You'll notice the line [`%matplotlib inline`](https://ipython.readthedocs.io/en/stable/interactive/magics.html#magic-matplotlib) looks very different to all other python code so far. This is a special command just for jupyter notebooks which will plot the figures inline and doesn't require a call to [`plt.show()`](https://matplotlib.org/api/_as_gen/matplotlib.pyplot.show.html)."
   ]
  },
  {
   "cell_type": "markdown",
   "metadata": {},
   "source": [
    "## 1. Functions \n",
    "\n",
    "Let's start creating a function called `test_normal(n, mean_dist, var_dist)` that generates a *random sequence* of `n` numbers from the normal distribution $\\mathcal{N}(\\mu, \\sigma^2)$ and returns the *mean* and *var* of the *sequence*. \n",
    "\n",
    "### Default Value Parameters\n",
    "Python allows you to have default values for parameters if you want them to be optional. For example if we define the function as `test_normal(n=100, mean_dist=5.0, var_dist=2.0)` then we can actually call the function using `test_normal()` and pass no parameters. We could also call the function using `test_normal(var_dist=10, mean_dist=0.5)`. You can find more info [here](https://www.programiz.com/python-programming/function-argument).\n",
    "\n",
    "Write the function so that when no parameters are passed it generates a sequence of 10000 elements from the distribution $\\mathcal{N}(0, 1)$. \n",
    "\n",
    "Call the function multiple times with no arguments and observe the output.\n",
    "\n",
    "Hint: you can use the function [`numpy.random.randn`](https://docs.scipy.org/doc/numpy-1.15.1/reference/generated/numpy.random.randn.html) to generate a random sequence from the normal distribution."
   ]
  },
  {
   "cell_type": "code",
   "execution_count": 54,
   "metadata": {},
   "outputs": [
    {
     "name": "stdout",
     "output_type": "stream",
     "text": [
      "(-0.001435423437572932, 0.9811401770976387)\n",
      "(5.347349679476806, 31.91064178030935)\n"
     ]
    }
   ],
   "source": [
    "# write your code here\n",
    "def test_normal(n = 10000, mean_dist = 0.0, var_dist = 1.0):\n",
    "    seq = math.sqrt(var_dist) * np.random.randn(n) + mean_dist\n",
    "    return np.mean(seq), np.var(seq)\n",
    "\n",
    "\n",
    "\n",
    "print(test_normal())\n",
    "print(test_normal(n=50, mean_dist = 5, var_dist= 30))"
   ]
  },
  {
   "cell_type": "markdown",
   "metadata": {},
   "source": [
    "### Play now a little with the parameters of the function. \n",
    "\n",
    "- What do you observe when you create a sequence with a very small number of elements? \n",
    "- What happens when the sequence contains a very large number of elements instead?"
   ]
  },
  {
   "cell_type": "markdown",
   "metadata": {},
   "source": [
    "## 2. 2D Normal distribution\n",
    "\n",
    "Given the following 2D normal distribution $\\mathcal{N}(\\mathbf{\\mu},\\mathbf{C})$ with:\n",
    "$$\n",
    "\\mathbf{\\mu}=\\left [ \\begin{array}{c}2\\\\2\\end{array}\\right ] \\;\\;\\;\\;\\;\n",
    "\\mathbf{C}=\\left [ \\begin{array}{cc}4& 2\\\\2& 6\\end{array}\\right ] \n",
    "$$\n",
    "\n",
    "Estimate the probability that the following vectors:\n",
    "\n",
    "- $x_1 = (1, 2)$\n",
    "- $x_2 = (2,8)$\n",
    "- $x_3 = (5,4)$ \n",
    "\n",
    "are sampled from the distribution. Hint: use SciPy's function [`stats.multivariate_normal.pdf`](https://docs.scipy.org/doc/scipy/reference/generated/scipy.stats.multivariate_normal.html)."
   ]
  },
  {
   "cell_type": "code",
   "execution_count": 82,
   "metadata": {},
   "outputs": [
    {
     "name": "stdout",
     "output_type": "stream",
     "text": [
      "0.030630984921987542\n",
      "0.0009724001092355\n",
      "0.011268509615631653\n"
     ]
    }
   ],
   "source": [
    "# write your code here\n",
    "mean =[2, 2]\n",
    "cov = [[4,2], [2,6]]\n",
    "prob_funct = stats.multivariate_normal(mean, cov)\n",
    "\n",
    "\n",
    "print(prob_funct.pdf([1,2]))\n",
    "print(prob_funct.pdf([2,8]))\n",
    "print(prob_funct.pdf([5,4]))"
   ]
  },
  {
   "cell_type": "markdown",
   "metadata": {},
   "source": [
    "### Observe the obtained values. Which vector has the highest likelihood? Why?"
   ]
  },
  {
   "cell_type": "markdown",
   "metadata": {},
   "source": [
    "## 3. Random vectors\n",
    "\n",
    "Generate a sequence of 100 random vectors from the 2D distribution above using the function [`stats.multivariate_normal.rvs`](https://docs.scipy.org/doc/scipy/reference/generated/scipy.stats.multivariate_normal.html)."
   ]
  },
  {
   "cell_type": "code",
   "execution_count": 89,
   "metadata": {},
   "outputs": [
    {
     "name": "stdout",
     "output_type": "stream",
     "text": [
      "[[ 1.86333436e+00  5.50298351e+00]\n",
      " [ 4.25148644e-01  2.32643339e+00]\n",
      " [ 1.57862335e+00  2.56287954e+00]\n",
      " [ 3.81613722e+00 -6.96215976e-01]\n",
      " [ 1.67966859e+00  3.34204222e-01]\n",
      " [ 2.70054842e+00  8.61615955e+00]\n",
      " [ 3.52579657e+00 -3.86530547e-01]\n",
      " [ 2.71386918e+00  1.86358765e+00]\n",
      " [ 3.39426833e+00  2.24916570e+00]\n",
      " [ 6.34414375e+00  9.43029950e+00]\n",
      " [ 2.21931700e+00  2.61310363e+00]\n",
      " [-1.09699494e+00  2.43727799e+00]\n",
      " [ 3.08949426e+00  1.69005308e+00]\n",
      " [ 3.44412842e+00 -5.29194712e-01]\n",
      " [ 6.26720915e+00  4.04196454e+00]\n",
      " [ 5.75858834e+00  2.15492202e+00]\n",
      " [ 3.32853914e-04 -4.35810528e+00]\n",
      " [ 1.59401063e+00  4.08387179e+00]\n",
      " [ 1.86711205e+00  5.76664500e-01]\n",
      " [ 1.24124795e+00  3.52476100e+00]\n",
      " [ 5.23553520e+00  8.76395926e+00]\n",
      " [ 1.21623009e+00 -1.57736707e+00]\n",
      " [ 1.98172823e+00  1.82447347e+00]\n",
      " [ 3.55637673e+00 -1.76466689e+00]\n",
      " [ 3.52350579e+00  4.16265169e+00]\n",
      " [ 1.57089552e-02  1.10221020e+00]\n",
      " [ 2.76557963e+00  3.36724940e+00]\n",
      " [ 2.43928232e+00  4.39705076e+00]\n",
      " [ 4.20284864e+00  5.37694352e+00]\n",
      " [-4.20530903e-01  2.23768978e+00]\n",
      " [-9.71620344e-01 -1.20402331e+00]\n",
      " [ 5.37519722e-02  3.27018782e-01]\n",
      " [ 1.01112377e+00  1.24173722e-01]\n",
      " [ 2.82603944e+00  4.77625534e+00]\n",
      " [ 4.66062400e+00  2.83557179e+00]\n",
      " [ 5.11233774e+00  7.71741931e+00]\n",
      " [ 1.97817352e+00  4.42485630e+00]\n",
      " [ 2.28864544e+00  2.23480880e+00]\n",
      " [ 8.26252031e-01  8.93611717e-01]\n",
      " [ 6.42549367e+00  7.14183328e+00]\n",
      " [ 2.22474677e+00  2.79429092e+00]\n",
      " [ 2.74017062e+00  1.60967260e+00]\n",
      " [ 3.36005921e+00  4.98414396e+00]\n",
      " [ 2.94645810e+00  4.57278283e+00]\n",
      " [ 1.68617645e+00  2.33417279e+00]\n",
      " [-2.80503752e-01  3.21868055e+00]\n",
      " [-6.32399721e-01  5.21021894e-01]\n",
      " [ 1.86659517e+00  2.91060780e+00]\n",
      " [ 3.14474061e+00  8.53029132e-01]\n",
      " [ 2.13317960e+00  4.12502221e+00]\n",
      " [ 3.50169910e+00  5.22413862e+00]\n",
      " [ 2.56706776e+00  2.85547527e+00]\n",
      " [ 2.50600747e+00  2.78456577e+00]\n",
      " [ 3.60823975e+00  1.64178387e+00]\n",
      " [ 4.52415676e+00  3.65105780e+00]\n",
      " [-2.33783042e+00 -1.05888171e+00]\n",
      " [ 2.14262386e+00  9.78969503e-01]\n",
      " [ 4.05660872e+00  1.68101083e+00]\n",
      " [ 2.57217970e+00  2.39658521e+00]\n",
      " [ 4.13239887e+00  5.85971517e+00]\n",
      " [-5.23559649e-01  9.60761881e-01]\n",
      " [ 4.48769337e+00  1.42359177e-01]\n",
      " [ 3.81580613e+00  2.86962161e+00]\n",
      " [-1.11126160e+00  8.80857426e-01]\n",
      " [ 1.92225559e+00  1.82068898e+00]\n",
      " [ 3.40304782e+00  2.79937238e+00]\n",
      " [-2.18542790e+00 -1.18138779e+00]\n",
      " [-3.68481914e-01 -7.84064442e-01]\n",
      " [-3.00522845e-01  5.32576476e+00]\n",
      " [ 9.55769484e-01  6.86066125e+00]\n",
      " [ 2.87825490e+00  1.14682793e+00]\n",
      " [ 2.05185204e+00  1.88353876e+00]\n",
      " [ 3.57777851e-01 -2.94041360e+00]\n",
      " [ 9.89416855e-01  5.68109406e+00]\n",
      " [ 2.28972821e+00 -1.32725454e+00]\n",
      " [ 1.11623962e+00  4.19351242e-01]\n",
      " [-2.84360474e-01 -8.78071771e-01]\n",
      " [ 2.51839476e+00  7.00383854e+00]\n",
      " [ 2.16724604e+00  1.50528682e+00]\n",
      " [ 1.99691611e+00  1.42951815e+00]\n",
      " [ 4.38779906e+00  7.42796408e+00]\n",
      " [ 7.30066386e-02  9.33152676e-01]\n",
      " [ 1.85146321e+00 -2.18299974e+00]\n",
      " [ 2.43452882e+00 -2.30735281e+00]\n",
      " [ 3.01982796e+00  3.18773865e+00]\n",
      " [ 5.39787794e+00  6.62758446e+00]\n",
      " [-1.27316145e+00  1.11897037e+00]\n",
      " [ 2.44277240e-01  1.08058478e-01]\n",
      " [-1.26723463e+00  2.61338041e+00]\n",
      " [ 7.65720713e-01  5.47461791e+00]\n",
      " [ 3.04388101e+00  2.82392130e+00]\n",
      " [ 4.31784287e-01  2.46119957e-01]\n",
      " [ 5.17933356e+00  3.32235889e+00]\n",
      " [-1.56538264e-02 -1.96378116e-01]\n",
      " [ 7.01307983e-01 -4.17756643e+00]\n",
      " [ 1.27877829e+00  8.74530471e-01]\n",
      " [ 2.65232803e+00  3.19159455e+00]\n",
      " [ 1.93314982e+00 -6.86193747e-01]\n",
      " [ 3.05433405e+00  1.35672795e+00]\n",
      " [ 3.65711466e+00  1.68214115e+00]]\n"
     ]
    }
   ],
   "source": [
    "# write your code here\n",
    "\n",
    "rand_vect = prob_funct.rvs(100)\n",
    "\n",
    "print(rand_vect)"
   ]
  },
  {
   "cell_type": "markdown",
   "metadata": {},
   "source": [
    "Create now a scatter plot of the sequence using the function [`plt.scatter`](https://matplotlib.org/api/_as_gen/matplotlib.pyplot.scatter.html). Compute the mean and covariance for the sequence using the functions [`np.mean`](https://docs.scipy.org/doc/numpy-1.15.0/reference/generated/numpy.mean.html) (consider the `axis` parameter) and [`np.cov`](https://docs.scipy.org/doc/numpy-1.15.0/reference/generated/numpy.cov.html) (consider the `rowvar` parameter)."
   ]
  },
  {
   "cell_type": "code",
   "execution_count": 105,
   "metadata": {},
   "outputs": [
    {
     "name": "stdout",
     "output_type": "stream",
     "text": [
      "Mean:\n",
      "[2.11342692 2.24194571]\n",
      "Cov:\n",
      "[[3.62875586 2.49007302]\n",
      " [2.49007302 7.56188706]]\n"
     ]
    },
    {
     "data": {
      "image/png": "[encoded data removed]",
      "text/plain": [
       "<Figure size 432x288 with 1 Axes>"
      ]
     },
     "metadata": {
      "needs_background": "light"
     },
     "output_type": "display_data"
    }
   ],
   "source": [
    "# write your code here\n",
    "\n",
    "plt.scatter(rand_vect[:, 0], rand_vect[:, 1])\n",
    "print(\"Mean:\")\n",
    "print(np.mean(rand_vect, axis=0))\n",
    "print(\"Cov:\")\n",
    "print(np.cov(rand_vect, rowvar=False))\n"
   ]
  },
  {
   "cell_type": "markdown",
   "metadata": {},
   "source": [
    "Let's increase now the length of the sequence to 4000. Plot the new data and compute the new mean and covariance."
   ]
  },
  {
   "cell_type": "code",
   "execution_count": 106,
   "metadata": {},
   "outputs": [
    {
     "name": "stdout",
     "output_type": "stream",
     "text": [
      "Mean:\n",
      "[1.97353912 2.00729817]\n",
      "Cov:\n",
      "[[3.94319664 1.98635044]\n",
      " [1.98635044 5.89691584]]\n"
     ]
    },
    {
     "data": {
      "image/png": "[encoded data removed]",
      "text/plain": [
       "<Figure size 432x288 with 1 Axes>"
      ]
     },
     "metadata": {
      "needs_background": "light"
     },
     "output_type": "display_data"
    }
   ],
   "source": [
    "# put your code here\n",
    "rand_vect_2 = prob_funct.rvs(4000)\n",
    "plt.scatter(rand_vect_2[:, 0], rand_vect_2[:, 1])\n",
    "print(\"Mean:\")\n",
    "print(np.mean(rand_vect_2, axis=0))\n",
    "print(\"Cov:\")\n",
    "print(np.cov(rand_vect_2, rowvar=False))"
   ]
  },
  {
   "cell_type": "markdown",
   "metadata": {},
   "source": [
    "### Compare the two scatter plots above. What do you observe?"
   ]
  },
  {
   "cell_type": "markdown",
   "metadata": {},
   "source": [
    "## 4. Matrix Inverse\n",
    "\n",
    "Create a function that takes a 2x2 matrix and returns its inverse.\n",
    "\n",
    "Recall that the inverse of a 2x2 matrix\n",
    "$$\n",
    "\\mathbf{A}=\\left [ \\begin{array}{cc}\n",
    "    a & b \\\\\n",
    "    c & d\\end{array}\\right ]\n",
    "$$\n",
    "\n",
    "is\n",
    "\n",
    "$$\n",
    "\\mathbf{A}^{-1} = \n",
    "    \\frac{1}{\\det(\\mathbf{A})} \\left [ \\begin{array}{cc}\n",
    "        d & -b \\\\\n",
    "        -c & a\\end{array}\\right ]\n",
    "$$\n",
    "\n",
    "where\n",
    "\n",
    "$$\\det{(\\mathbf{A})} = ad - bc$$"
   ]
  },
  {
   "cell_type": "markdown",
   "metadata": {},
   "source": [
    "### Before coding, answer the following question:\n",
    "\n",
    "Given the definition above, are there any conditions you need to check before calculating the inverse of a matrix in your function?"
   ]
  },
  {
   "cell_type": "code",
   "execution_count": 112,
   "metadata": {},
   "outputs": [
    {
     "name": "stdout",
     "output_type": "stream",
     "text": [
      "[[1 3 3]\n",
      " [1 4 3]\n",
      " [1 3 4]]\n",
      "[[ 7. -3. -3.]\n",
      " [-1.  1.  0.]\n",
      " [-1.  0.  1.]]\n"
     ]
    }
   ],
   "source": [
    "# ad-bc != 0\n",
    "#matrix must be of form n x n\n",
    "\n",
    "array = np.array([[1,3,3], [1,4,3], [1,3,4]])\n",
    "inverse = np.linalg.inv(array)\n",
    "\n",
    "print(array)\n",
    "print(inverse)\n"
   ]
  },
  {
   "cell_type": "markdown",
   "metadata": {},
   "source": [
    "Call now the function passing different random 2x2 matrices.\n",
    "\n",
    "Try also your function with a singular 2x2 matrix and a random 2x3 matrix and make sure your code does not crash!"
   ]
  },
  {
   "cell_type": "code",
   "execution_count": 0,
   "metadata": {},
   "outputs": [],
   "source": [
    "# write your code here\n",
    "\n",
    "\n",
    "\n"
   ]
  },
  {
   "cell_type": "markdown",
   "metadata": {},
   "source": [
    "Obviously, there was already a function in NumPy to calculate the inverse of a matrix, which is the function [`np.linalg.inv`](https://docs.scipy.org/doc/numpy/reference/generated/numpy.linalg.inv.html#numpy.linalg.inv). \n",
    "\n",
    "Compare now the results obtained with your function with those obtained with the NumPy one. Note that if you coded the function right, you should get the exact same results!"
   ]
  },
  {
   "cell_type": "code",
   "execution_count": 0,
   "metadata": {},
   "outputs": [],
   "source": [
    "# write your code here\n",
    "\n",
    "\n"
   ]
  },
  {
   "cell_type": "markdown",
   "metadata": {},
   "source": [
    "## 5. Loading images with Python\n",
    "\n",
    "We will use the [scikit-image](https://scikit-image.org/) library to load, show and perform some operation on images. \n",
    "\n",
    "We have already imported all the needed functions in the first code cell of this notebook.\n",
    "\n",
    "Let's now load the image `flower.png` using the function [`io.imread`](http://scikit-image.org/docs/dev/api/skimage.io.html#skimage.io.imread) and let's display the image using the function [`io.imshow`](http://scikit-image.org/docs/dev/api/skimage.io.html#skimage.io.imshow)."
   ]
  },
  {
   "cell_type": "code",
   "execution_count": 0,
   "metadata": {},
   "outputs": [],
   "source": [
    "# write your code here"
   ]
  },
  {
   "cell_type": "markdown",
   "metadata": {},
   "source": [
    "Remember that images can be interpreted as *matrices*. In fact, the scikit-image library stores images as NumPy arrays. \n",
    "\n",
    "Such arrays are either 2D, for grey scale images, or 3D, for colour images.\n",
    "\n",
    "In the grey scale case, the 2D array simply stores the intensity value of each pixel. Usually values are in the range `[0, 255]` (8 bit images), but other ranges are also possible, such as `[0, 1]`.\n",
    "\n",
    "In the colour case, the third dimension represents one of the three `[R, G, B]` colour channels. Each channel can be seen as a grey scale image which stores the intensity value of the corresponding colour. By combining the three colours we can obtain all the [other colours](https://en.wikipedia.org/wiki/RGB_color_model).\n",
    "\n",
    "#### Note:\n",
    "* A number of different colour models exist, such as CMY or HSL. Depending on the used colour model, pixels in matrices are organised in different ways. Here we assume we are dealing only with the RGB colour model, which is the predominant model for monitors, and thus assume our matrices are in the form seen above. You can learn more about this topic [here](https://en.wikipedia.org/wiki/Color_space) and [here](https://en.wikipedia.org/wiki/Color_model#CMYK_color_model)\n",
    "\n",
    "We can check the size/shape of an image/matrix by using the property `shape` of NumPy's arrays. "
   ]
  },
  {
   "cell_type": "code",
   "execution_count": 0,
   "metadata": {},
   "outputs": [],
   "source": [
    "print('Image shape:', im_flower.shape)"
   ]
  },
  {
   "cell_type": "markdown",
   "metadata": {},
   "source": [
    "In our case, the flower image has resolution 1440x900. Note how rows represent the height of the image, while columns represent its width. Since our image is in colours, we have a 3D array."
   ]
  },
  {
   "cell_type": "markdown",
   "metadata": {},
   "source": [
    "## 6. Image manipulation\n",
    "\n",
    "Let's convert our colour image to a grey scale one using the function [`color.rgb2gray`](http://scikit-image.org/docs/dev/api/skimage.color.html#skimage.color.rgb2gray). Let's then change the size of the image to half its current size using the function [`transform.resize`](http://scikit-image.org/docs/dev/api/skimage.transform.html#skimage.transform.resize).\n",
    "\n",
    "Print both images' size to check your operation was perfomed correctly."
   ]
  },
  {
   "cell_type": "code",
   "execution_count": 0,
   "metadata": {},
   "outputs": [],
   "source": [
    "# write your code here"
   ]
  },
  {
   "cell_type": "markdown",
   "metadata": {},
   "source": [
    "## 7. Image interpretation\n",
    "\n",
    "Calculate the histogram of your grey scale image's pixel values using the function [`exposure.histogram`](http://scikit-image.org/docs/dev/api/skimage.exposure.html#skimage.exposure.histogram).\n",
    "\n",
    "You can use the following function `imhist` to plot the histogram."
   ]
  },
  {
   "cell_type": "code",
   "execution_count": 0,
   "metadata": {},
   "outputs": [],
   "source": [
    "def imhist(img_hist):\n",
    "    fig, ax = plt.subplots()\n",
    "    ax.bar( range(256), img_hist[0], width=1 )\n",
    "    ax.set_xlim(0, 256)"
   ]
  },
  {
   "cell_type": "markdown",
   "metadata": {},
   "source": [
    "### What can we tell about the image by looking at the histogram? \n",
    "\n",
    "Recall we plotted the histogram of the grey scale image, and recall that our pixels have values ranging from 0 (black) to 255 (white)."
   ]
  },
  {
   "cell_type": "markdown",
   "metadata": {},
   "source": [
    "## 8. Image Interpretation  II\n",
    "\n",
    "Use the function [`exposure.equalize_hist`](http://scikit-image.org/docs/dev/api/skimage.exposure.html#skimage.exposure.equalize_hist) to [equalize](https://en.wikipedia.org/wiki/Histogram_equalization) the image. Show the image and its corresponding histogram."
   ]
  },
  {
   "cell_type": "code",
   "execution_count": 0,
   "metadata": {},
   "outputs": [],
   "source": [
    "# write your code here"
   ]
  },
  {
   "cell_type": "markdown",
   "metadata": {},
   "source": [
    "### Observe the resulting image and its histogram. What can we tell about the equalised image? "
   ]
  }
 ],
 "metadata": {
  "kernelspec": {
   "display_name": "Python 3",
   "language": "python",
   "name": "python3"
  },
  "language_info": {
   "codemirror_mode": {
    "name": "ipython",
    "version": 3
   },
   "file_extension": ".py",
   "mimetype": "text/x-python",
   "name": "python",
   "nbconvert_exporter": "python",
   "pygments_lexer": "ipython3",
   "version": "3.7.4"
  }
 },
 "nbformat": 4,
 "nbformat_minor": 1
}
